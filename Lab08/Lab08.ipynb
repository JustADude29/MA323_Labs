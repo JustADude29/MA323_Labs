{
 "cells": [
  {
   "cell_type": "code",
   "execution_count": 4,
   "id": "7149b14b-b7a7-4fbc-833a-f9f3fc16ad0c",
   "metadata": {},
   "outputs": [],
   "source": [
    "import numpy as np\n",
    "from scipy.stats import poisson, weibull_min, norm, gamma\n",
    "from functools import reduce"
   ]
  },
  {
   "cell_type": "markdown",
   "id": "23d21d91-7c65-455c-8f64-f19864831c57",
   "metadata": {},
   "source": [
    "## Q1"
   ]
  },
  {
   "cell_type": "code",
   "execution_count": 5,
   "id": "c06d95c4-65f3-48c5-b338-182acf273637",
   "metadata": {},
   "outputs": [],
   "source": [
    "lambda_val = 2.9\n",
    "k = 0.8\n",
    "sigma = 3\n",
    "total_rainfall_threshold = 5\n",
    "total_samples = 0\n",
    "np.random.seed(210123043)"
   ]
  },
  {
   "cell_type": "code",
   "execution_count": 6,
   "id": "7846f898-6ac5-4e02-8957-0bfb152b2ec4",
   "metadata": {},
   "outputs": [],
   "source": [
    "P_S0 = poisson.pmf(0, lambda_val)"
   ]
  },
  {
   "cell_type": "code",
   "execution_count": 7,
   "id": "a78e6883-e1b8-40d6-94e2-935735b3ad11",
   "metadata": {},
   "outputs": [],
   "source": [
    "def monte_carlo_simulation(num_trials):\n",
    "    count_below_threshold = 0\n",
    "\n",
    "    for _ in range(num_trials):\n",
    "        S = poisson.rvs(lambda_val)\n",
    "\n",
    "        rainfall_depths = weibull_min.rvs(k, scale=sigma, size=S)\n",
    "\n",
    "        total_rainfall = np.sum(rainfall_depths)\n",
    "\n",
    "        if total_rainfall < total_rainfall_threshold:\n",
    "            count_below_threshold += 1\n",
    "\n",
    "    probability = count_below_threshold / num_trials\n",
    "    return probability"
   ]
  },
  {
   "cell_type": "code",
   "execution_count": 8,
   "id": "e27ece1e-462f-4cdd-85e3-9037e1077406",
   "metadata": {},
   "outputs": [],
   "source": [
    "def stratification_simulation(num_trials):\n",
    "    strata = [0, 1, 2, 3, 4, 5, 6]\n",
    "    probabilities = []\n",
    "    total_samples = 0\n",
    "    for S in strata:\n",
    "        stratum_probability = poisson.pmf(S, lambda_val)\n",
    "\n",
    "        count_below_threshold = 0\n",
    "        coun = num_trials*((stratum_probability)/(1-P_S0))\n",
    "        if(S == 0):\n",
    "            coun = 2\n",
    "            total_samples+=2\n",
    "        else:\n",
    "            if(S != 6):\n",
    "                coun = num_trials*((stratum_probability)/(1-P_S0))\n",
    "                coun = np.floor(coun)\n",
    "                coun = int(coun)\n",
    "                total_samples+=coun\n",
    "        if(S != 6):\n",
    "            print(f\"For s = {S}, number of samples = {coun}\")\n",
    "        else:\n",
    "            coun = num_trials - total_samples\n",
    "            print(f\"For s>=6, number of samples = {coun}\")\n",
    "        for _ in range(coun):\n",
    "            rainfall_depths = weibull_min.rvs(k, scale=sigma, size=S)\n",
    "\n",
    "            total_rainfall = np.sum(rainfall_depths)\n",
    "\n",
    "            if total_rainfall < total_rainfall_threshold:\n",
    "                count_below_threshold += 1\n",
    "\n",
    "        stratum_probability *= count_below_threshold / coun\n",
    "        probabilities.append(stratum_probability)\n",
    "\n",
    "    overall_probability = sum(probabilities)\n",
    "    return overall_probability"
   ]
  },
  {
   "cell_type": "code",
   "execution_count": 9,
   "id": "366f7e00-5915-4499-ac2d-a45afc315825",
   "metadata": {},
   "outputs": [],
   "source": [
    "cases = [100, 10000]\n",
    "z_value = norm.ppf(0.995)"
   ]
  },
  {
   "cell_type": "code",
   "execution_count": 10,
   "id": "6cb3e45d-3f00-43ab-9a4c-41322a39dcf2",
   "metadata": {},
   "outputs": [
    {
     "name": "stdout",
     "output_type": "stream",
     "text": [
      "--------------\n",
      "Monte Carlo\n",
      "\n",
      "For 100 samples:\n",
      "Estimated probability: 0.33, and 99% confidence interval: (0.20888123025369726, 0.4511187697463028)\n",
      "\n",
      "For 10000 samples:\n",
      "Estimated probability: 0.3747, and 99% confidence interval: (0.3622318177889534, 0.38716818221104654)\n",
      "--------------\n",
      "\n"
     ]
    }
   ],
   "source": [
    "print(\"--------------\\nMonte Carlo\")\n",
    "for n in cases:\n",
    "    print(f\"\\nFor {n} samples:\")\n",
    "    p = monte_carlo_simulation(n)\n",
    "    l = p - z_value * np.sqrt(p * (1 - p) / n)\n",
    "    r = p + z_value * np.sqrt(p * (1 - p) / n)\n",
    "    print(f\"Estimated probability: {p}, and 99% confidence interval: {l, r}\")\n",
    "\n",
    "print(\"--------------\\n\")"
   ]
  },
  {
   "cell_type": "code",
   "execution_count": 11,
   "id": "892cfbda-807d-4ba4-b0f0-6c3990ff0171",
   "metadata": {},
   "outputs": [
    {
     "name": "stdout",
     "output_type": "stream",
     "text": [
      "--------------\n",
      "Stratification\n",
      "\n",
      "For 100 samples:\n",
      "For s = 0, number of samples = 2\n",
      "For s = 1, number of samples = 16\n",
      "For s = 2, number of samples = 24\n",
      "For s = 3, number of samples = 23\n",
      "For s = 4, number of samples = 17\n",
      "For s = 5, number of samples = 9\n",
      "For s>=6, number of samples = 9\n",
      "Estimated probability: 0.3491716407554088, and 99% confidence interval: (0.226379719171599, 0.4719635623392186)\n",
      "\n",
      "For 10000 samples:\n",
      "For s = 0, number of samples = 2\n",
      "For s = 1, number of samples = 1688\n",
      "For s = 2, number of samples = 2448\n",
      "For s = 3, number of samples = 2366\n",
      "For s = 4, number of samples = 1715\n",
      "For s = 5, number of samples = 995\n",
      "For s>=6, number of samples = 786\n",
      "Estimated probability: 0.38534055773506365, and 99% confidence interval: (0.37280462309409307, 0.39787649237603423)\n",
      "--------------\n",
      "\n"
     ]
    }
   ],
   "source": [
    "print(\"--------------\\nStratification\")\n",
    "for n in cases:\n",
    "    print(f\"\\nFor {n} samples:\")\n",
    "    p = stratification_simulation(n)\n",
    "    l = p - z_value * np.sqrt(p * (1 - p) / n)\n",
    "    r = p + z_value * np.sqrt(p * (1 - p) / n)\n",
    "    print(f\"Estimated probability: {p}, and 99% confidence interval: {l, r}\")\n",
    "\n",
    "print(\"--------------\\n\")"
   ]
  },
  {
   "cell_type": "markdown",
   "id": "f548b6d1-838b-4f62-b6ae-35b424c701fe",
   "metadata": {},
   "source": [
    "## Q2"
   ]
  },
  {
   "cell_type": "code",
   "execution_count": 12,
   "id": "6e1c4711-b235-4077-b02e-1378420679f5",
   "metadata": {},
   "outputs": [
    {
     "name": "stdout",
     "output_type": "stream",
     "text": [
      "The required probablity is 0.6288936628724892\n"
     ]
    }
   ],
   "source": [
    "alpha_lst = [2082, 1999, 2008, 2047, 2199, 2153, 1999, 2136, 2053, 2121, 1974, 2110, 2110, 2168, 2035, 2019, 2044, 2191, 2284, 1912, 2196, 2099, 2041, 2192, 2188, 1984, 2158, 2019, 2032, 2051, 2192, 2133, 2142, 2113, 2150, 2221, 2046, 2127]\n",
    "prob_lst = []\n",
    "N = 10000\n",
    "for _ in range(N):\n",
    "    y19 = np.random.gamma(shape = alpha_lst[18], scale = 1, size = 1)\n",
    "    p = 1\n",
    "    cdfs_product = 1\n",
    "    for i in range(38):\n",
    "        if i != 18:\n",
    "            cdfs_product *= gamma.cdf(y19, a=alpha_lst[i])\n",
    "\n",
    "    p = cdfs_product\n",
    "    prob_lst.append(p)\n",
    "mu = np.array(prob_lst).mean()\n",
    "print(f\"The required probablity is {mu}\")"
   ]
  },
  {
   "cell_type": "markdown",
   "id": "c8bca191-fa7a-4424-a8bc-6898c7ed67f2",
   "metadata": {},
   "source": [
    "## Q3"
   ]
  },
  {
   "cell_type": "code",
   "execution_count": 13,
   "id": "4a0384e7-50a6-40dc-9b3c-8b017cc5cdd6",
   "metadata": {},
   "outputs": [],
   "source": [
    "mu = [0, 0, 0, 0, 0]\n",
    "var = [5, 5, 5, 5, 5]"
   ]
  },
  {
   "cell_type": "code",
   "execution_count": 14,
   "id": "761c50e9-bfb0-41d3-a4ab-577d502ccd25",
   "metadata": {},
   "outputs": [],
   "source": [
    "def generate_lognormal(mu, var, size):\n",
    "    normal_random_variables = mu + np.sqrt(var) * np.random.randn(size)\n",
    "    lognormal_random_variables = np.exp(normal_random_variables)\n",
    "    return lognormal_random_variables"
   ]
  },
  {
   "cell_type": "code",
   "execution_count": 15,
   "id": "0345187f-4eb6-46b1-8e1c-1b16dca069bd",
   "metadata": {},
   "outputs": [
    {
     "name": "stdout",
     "output_type": "stream",
     "text": [
      " Beta optimal: 1.4666680224904472e-06\n",
      "For 10000 samples, Estimated mean = 12.481561614254415 with 99% confidence interval - (8.544610212439386, 16.418513016069443)\n",
      "With Parameters: (0, 5), (0, 5), (0, 5), (0, 5), (0, 5)\n",
      "\n"
     ]
    }
   ],
   "source": [
    "X = []\n",
    "samples = 100000\n",
    "for i in range(5):\n",
    "    X.append(generate_lognormal(mu[i], var[i], samples))\n",
    "X = np.array(X)\n",
    "f = np.sum(X, axis = 0) / 5\n",
    "h = np.prod(X, axis = 0) / 5\n",
    "\n",
    "theta = np.exp(sum(mu) + 0.5 * sum(var)) / 5\n",
    "\n",
    "theta_hat = np.mean(h)\n",
    "mu_hat = np.mean(f)\n",
    "\n",
    "beta_opt = np.sum((f - mu_hat)*(h - theta_hat)) / np.sum(np.square(h - theta_hat))\n",
    "print(f\" Beta optimal: {beta_opt}\")\n",
    "\n",
    "mean_hat = mu_hat + beta_opt * (theta - theta_hat)\n",
    "var_hat = np.sum(np.square(f - mu_hat - beta_opt * (h - theta_hat))) / (n**2)\n",
    "z_value = norm.ppf(0.995)\n",
    "l = mean_hat - z_value*np.sqrt(var_hat)\n",
    "r = mean_hat + z_value*np.sqrt(var_hat)\n",
    "print(f\"For {n} samples, Estimated mean = {mean_hat} with 99% confidence interval - ({l}, {r})\")\n",
    "print(f\"With Parameters: ({mu[0]}, {var[0]}), ({mu[1]}, {var[1]}), ({mu[2]}, {var[2]}), ({mu[3]}, {var[3]}), ({mu[4]}, {var[4]})\")\n",
    "print()"
   ]
  },
  {
   "cell_type": "code",
   "execution_count": null,
   "id": "4ea0281d-5f1e-4a21-82f3-84f1cc9a3f95",
   "metadata": {},
   "outputs": [],
   "source": []
  }
 ],
 "metadata": {
  "kernelspec": {
   "display_name": "Python 3 (ipykernel)",
   "language": "python",
   "name": "python3"
  },
  "language_info": {
   "codemirror_mode": {
    "name": "ipython",
    "version": 3
   },
   "file_extension": ".py",
   "mimetype": "text/x-python",
   "name": "python",
   "nbconvert_exporter": "python",
   "pygments_lexer": "ipython3",
   "version": "3.11.6"
  }
 },
 "nbformat": 4,
 "nbformat_minor": 5
}
