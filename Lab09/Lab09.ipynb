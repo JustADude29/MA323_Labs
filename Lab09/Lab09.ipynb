{
 "cells": [
  {
   "cell_type": "code",
   "execution_count": 204,
   "id": "a85e18f4",
   "metadata": {},
   "outputs": [],
   "source": [
    "import numpy as np\n",
    "import matplotlib.pyplot as plt\n",
    "from scipy.stats import skew"
   ]
  },
  {
   "cell_type": "code",
   "execution_count": 20,
   "id": "79fc9444",
   "metadata": {},
   "outputs": [],
   "source": [
    "def uniformGen(a, b, m, N, seed):\n",
    "    ui=list()\n",
    "    x = seed\n",
    "    for _ in range(18):\n",
    "        x = (a*x + b)%m\n",
    "        ui.append(x/m)\n",
    "    for i in range(18, N):\n",
    "        curr = ui[i-17]-ui[i-5]\n",
    "        if(curr<0): curr = 1+curr\n",
    "        ui.append(curr)\n",
    "    return ui"
   ]
  },
  {
   "cell_type": "code",
   "execution_count": 229,
   "id": "a58585a1-8dc9-4868-bb36-48d0d902e9e1",
   "metadata": {},
   "outputs": [],
   "source": [
    "def expp(x, lamda):\n",
    "    if(x>0):\n",
    "        return (lamda*np.exp(-1*lamda*x))\n",
    "    else:\n",
    "        return 0"
   ]
  },
  {
   "cell_type": "code",
   "execution_count": 21,
   "id": "470679f6",
   "metadata": {},
   "outputs": [],
   "source": [
    "meanTimes = np.array((4, 4, 2, 5, 2, 3, 2, 3, 2, 2))"
   ]
  },
  {
   "cell_type": "code",
   "execution_count": 43,
   "id": "e04f850b",
   "metadata": {},
   "outputs": [],
   "source": [
    "def E10(T):\n",
    "    return T[9]+max(T[3]+T[1]+T[0], max(T[7]+T[2]+T[0], T[8]+max(T[4]+T[1]+T[0], max(T[5]+T[2]+T[0], T[6]+T[2]+T[0]))))"
   ]
  },
  {
   "cell_type": "code",
   "execution_count": 246,
   "id": "5a691868",
   "metadata": {},
   "outputs": [],
   "source": [
    "def inverseLog(lam, u):\n",
    "    return (-1/lam)*(np.log(1-u))"
   ]
  },
  {
   "cell_type": "code",
   "execution_count": 266,
   "id": "8acf98d6",
   "metadata": {},
   "outputs": [],
   "source": [
    "def monte_carlo_sim(seed, n):\n",
    "    u_samples = uniformGen(1597, 1, 244944, 200000, seed)\n",
    "    u_index = 1\n",
    "    E_10 = list()\n",
    "    T_i = list()\n",
    "    for _ in range(n):\n",
    "        T = list()\n",
    "        for i in range(10):\n",
    "            T.append(inverseLog(1/meanTimes[i], u_samples[u_index]))\n",
    "            u_index+=1\n",
    "        temp = E10(T)\n",
    "        E_10.append(temp)\n",
    "        T_i.append(T)\n",
    "    print(f\"Mean of E10: {np.mean(E_10)}\\n\")\n",
    "    plt.hist(E_10, bins=100)\n",
    "    plt.show()\n",
    "    \n",
    "    print(f\"Skewness of samples is {skew(E_10)}\")\n",
    "\n",
    "    coun = 0\n",
    "    for i in E_10:\n",
    "        if(i>70): coun+=1\n",
    "    prob = coun/n\n",
    "\n",
    "    p = []\n",
    "    for i in range(n):\n",
    "        temp = 1\n",
    "        for j in range(10):\n",
    "            temp*=expp(T_i[i][j], 1/meanTimes[j])\n",
    "        if(E_10[i]>70):\n",
    "            p.append(temp)\n",
    "        else:\n",
    "            p.append(0)\n",
    "\n",
    "    E_10 = np.array(E_10)\n",
    "    std = np.std(E_10>70)\n",
    "    \n",
    "    print(f\"Probability of missing deadline: {prob}\")\n",
    "    print(f\"The standard Deviation of Probability: {std}\")"
   ]
  },
  {
   "cell_type": "code",
   "execution_count": 269,
   "id": "04b90cc6",
   "metadata": {},
   "outputs": [
    {
     "name": "stdout",
     "output_type": "stream",
     "text": [
      "Mean of E10: 18.11529270968303\n",
      "\n"
     ]
    },
    {
     "data": {
      "image/png": "[encoded data removed]",
      "text/plain": [
       "<Figure size 640x480 with 1 Axes>"
      ]
     },
     "metadata": {},
     "output_type": "display_data"
    },
    {
     "name": "stdout",
     "output_type": "stream",
     "text": [
      "Skewness of samples is 1.0736874436242845\n",
      "Probability of missing deadline: 0.0001\n",
      "The standard Deviation of Probability: 0.009999499987499378\n"
     ]
    }
   ],
   "source": [
    "monte_carlo_sim(3, 10000)"
   ]
  },
  {
   "cell_type": "code",
   "execution_count": 220,
   "id": "8dbe4f07-98d7-4b77-82c9-cceb0b0ba9db",
   "metadata": {},
   "outputs": [],
   "source": [
    "def importance_samp_e(seed, n, k):\n",
    "    u_samples = uniformGen(1597, 1, 244944, n*20, seed)\n",
    "    u_index = 1\n",
    "    coun = 0\n",
    "    E_10 = list()\n",
    "    wi = list()\n",
    "    wi2 = list()\n",
    "    for _ in range(n):\n",
    "        T = list()\n",
    "        for i in range(10):\n",
    "            T.append(inverseLog(1/(k*meanTimes[i]), u_samples[u_index]))\n",
    "            u_index+=1\n",
    "        e = E10(T)\n",
    "        f=0\n",
    "        if(e>70):\n",
    "            coun+=1\n",
    "            f=1\n",
    "        p = 1\n",
    "        for i in range(10):\n",
    "            temp = expp(T[i], 1/meanTimes[i])\n",
    "            temp /= expp(T[i], 1/(k*meanTimes[i]))\n",
    "            p*=temp\n",
    "        E_10.append(f*p)\n",
    "        wi.append(p)\n",
    "        \n",
    "    mean = np.mean(E_10)\n",
    "    \n",
    "    u_index = 1\n",
    "    var = np.var(E_10)\n",
    "    wi_2 = np.square(wi)\n",
    "\n",
    "    n_e = n*(pow(np.mean(wi), 2))/np.mean(wi_2)\n",
    "        \n",
    "    print(f\"Estimated probability: {mean} ({coun} E10's greater than 70)\\nStandard deviation: {np.sqrt(var)}\\nEstimated samples size: {n_e}\")"
   ]
  },
  {
   "cell_type": "code",
   "execution_count": 258,
   "id": "588adb7a-81fe-48fe-afee-33ad15f8c608",
   "metadata": {},
   "outputs": [
    {
     "name": "stdout",
     "output_type": "stream",
     "text": [
      "Estimated probability: 2.8795997096149656e-05 (4664 E10's greater than 70)\n",
      "Standard deviation: 0.0008570098775141869\n",
      "Estimated samples size: 3.2701409738542355\n"
     ]
    }
   ],
   "source": [
    "importance_samp_e(8, 10000, 4)"
   ]
  },
  {
   "cell_type": "code",
   "execution_count": 259,
   "id": "f7fa8ec6-e97b-402f-acc9-a076889a4e3e",
   "metadata": {},
   "outputs": [],
   "source": [
    "def importance_samp_f(seed, n, k):\n",
    "    u_samples = uniformGen(1597, 1, 244944, n*20, seed)\n",
    "    u_index = 1\n",
    "    coun = 0\n",
    "    E_10 = list()\n",
    "    wi = list()\n",
    "    wi2 = list()\n",
    "    for _ in range(n):\n",
    "        T = list()\n",
    "        for i in range(10):\n",
    "            if(i == 0 or i == 1 or i == 3 or i == 9):\n",
    "                T.append(inverseLog(1/(k*meanTimes[i]), u_samples[u_index]))\n",
    "            else:\n",
    "                T.append(inverseLog(1/meanTimes[i], u_samples[u_index]))\n",
    "            u_index+=1\n",
    "        e = E10(T)\n",
    "        f=0\n",
    "        if(e>70):\n",
    "            coun+=1\n",
    "            f=1\n",
    "        p = 1\n",
    "        for i in range(10):\n",
    "            temp = expp(T[i], 1/meanTimes[i])\n",
    "            if(i == 0 or i == 1 or i == 3 or i == 9):\n",
    "                temp /= expp(T[i], 1/(k*meanTimes[i]))\n",
    "            else:\n",
    "                temp = 1\n",
    "            p*=temp\n",
    "        E_10.append(f*p)\n",
    "        wi.append(p)\n",
    "        \n",
    "    mean = np.mean(E_10)\n",
    "    \n",
    "    u_index = 1\n",
    "    var = np.var(E_10)\n",
    "    wi_2 = np.square(wi)\n",
    "\n",
    "    n_e = n*(pow(np.mean(wi), 2))/np.mean(wi_2)\n",
    "    l = mean-(2.58*np.sqrt(var)/np.sqrt(n))\n",
    "    r = mean+(2.58*np.sqrt(var)/np.sqrt(n))\n",
    "        \n",
    "    print(f\"\\nFor k={k}\\nEstimated probability: {mean} ({coun} E10's greater than 70)\\nStandard deviation: {np.sqrt(var)}\\nEstimated sample size: {n_e}\")\n",
    "    print(f\"99% confidence interval: [{l}, {r}]\")"
   ]
  },
  {
   "cell_type": "code",
   "execution_count": 260,
   "id": "ade83549-3362-4cb3-934e-5ffe4b42a977",
   "metadata": {},
   "outputs": [],
   "source": [
    "k = np.array((3, 4, 5))"
   ]
  },
  {
   "cell_type": "code",
   "execution_count": 261,
   "id": "60fcb5f2-ede7-4837-8361-ce2c724014f1",
   "metadata": {},
   "outputs": [
    {
     "name": "stdout",
     "output_type": "stream",
     "text": [
      "\n",
      "For k=3\n",
      "Estimated probability: 3.048886299558089e-05 (1417 E10's greater than 70)\n",
      "Standard deviation: 0.00017205565913890302\n",
      "Estimated sample size: 916.9513316644061\n",
      "99% confidence interval: [2.6049826989797193e-05, 3.492789900136459e-05]\n",
      "\n",
      "For k=4\n",
      "Estimated probability: 2.8265738481174406e-05 (3142 E10's greater than 70)\n",
      "Standard deviation: 0.00014025235992752138\n",
      "Estimated sample size: 327.46655911205283\n",
      "99% confidence interval: [2.4647227595044356e-05, 3.1884249367304456e-05]\n",
      "\n",
      "For k=5\n",
      "Estimated probability: 3.3822954208965744e-05 (4793 E10's greater than 70)\n",
      "Standard deviation: 0.00017824268628843982\n",
      "Estimated sample size: 141.04805829751248\n",
      "99% confidence interval: [2.9224292902723997e-05, 3.842161551520749e-05]\n"
     ]
    }
   ],
   "source": [
    "for ki in k:\n",
    "    importance_samp_f(8, 10000, ki)"
   ]
  },
  {
   "cell_type": "code",
   "execution_count": null,
   "id": "1bff9489-225d-4144-ae78-1f68301e27b6",
   "metadata": {},
   "outputs": [],
   "source": []
  }
 ],
 "metadata": {
  "kernelspec": {
   "display_name": "Python 3 (ipykernel)",
   "language": "python",
   "name": "python3"
  },
  "language_info": {
   "codemirror_mode": {
    "name": "ipython",
    "version": 3
   },
   "file_extension": ".py",
   "mimetype": "text/x-python",
   "name": "python",
   "nbconvert_exporter": "python",
   "pygments_lexer": "ipython3",
   "version": "3.11.6"
  }
 },
 "nbformat": 4,
 "nbformat_minor": 5
}
