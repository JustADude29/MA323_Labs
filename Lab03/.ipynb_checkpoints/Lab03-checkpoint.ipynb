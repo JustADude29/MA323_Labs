{
 "cells": [
  {
   "cell_type": "code",
   "execution_count": 1,
   "id": "66a7910c-6f6d-4480-ad0d-736d52468e5d",
   "metadata": {},
   "outputs": [],
   "source": [
    "import numpy as np\n",
    "import pandas as pd\n",
    "import math\n",
    "import matplotlib.pyplot as plt"
   ]
  },
  {
   "cell_type": "code",
   "execution_count": 2,
   "id": "d5dfa0ef-97e6-4770-a574-058ac2bd93db",
   "metadata": {},
   "outputs": [],
   "source": [
    "def f(x):\n",
    "    return 20 * x * pow(1-x, 3)\n",
    "\n",
    "def g(x):\n",
    "    return 1\n",
    "\n",
    "def linGen(a, b, m, seed, N):\n",
    "\tui = []\n",
    "\tx = seed\n",
    "\tfor _ in range(N):\n",
    "\t\tx = (a*x + b) % m\n",
    "\t\tu = x/m\n",
    "\t\tui.append(u)\n",
    "\treturn ui\n",
    "\n",
    "a = 1234567\n",
    "b = 2312\n",
    "m = 2**32\n",
    "seed = 234234\n",
    "\n",
    "rng = linGen(a,b,m,seed,1000000)"
   ]
  },
  {
   "cell_type": "code",
   "execution_count": 3,
   "id": "27d28569-2ea9-4e0e-ae3d-9e0207f3af80",
   "metadata": {},
   "outputs": [],
   "source": [
    "a = 1234567\n",
    "b = 2312\n",
    "m = 2**32\n",
    "seed = 234234\n",
    "\n",
    "rng = linGen(a,b,m,seed,1000000)"
   ]
  },
  {
   "cell_type": "markdown",
   "id": "d378f856-9e13-4acf-83d6-d9795a66783d",
   "metadata": {},
   "source": [
    "# Part (I)"
   ]
  },
  {
   "cell_type": "code",
   "execution_count": 4,
   "id": "7e5ad1b3-9e98-4821-91e7-62ea0adce835",
   "metadata": {},
   "outputs": [],
   "source": [
    "def acceptance_rejection(N,c):\n",
    "    samples = []\n",
    "    iterations = []\n",
    "    k = 0\n",
    "    totalCount=0\n",
    "    for i in range(N):\n",
    "        currCount=0\n",
    "        while True:\n",
    "            x = rng[k]\n",
    "            y = rng[k+1]\n",
    "            k+=2\n",
    "            totalCount+=1\n",
    "            currCount+=1\n",
    "            if y <= f(x) / (c * g(x)):\n",
    "                samples.append(x)\n",
    "                iterations.append(currCount)\n",
    "                break\n",
    "\n",
    "    return samples, totalCount/N, iterations\n"
   ]
  },
  {
   "cell_type": "markdown",
   "id": "53ee3f44-c865-4679-b0b6-098ba4a3253a",
   "metadata": {},
   "source": [
    "#### c = 135/64 (max of f(x))"
   ]
  },
  {
   "cell_type": "code",
   "execution_count": 5,
   "id": "c0f8f141-eea9-4998-9f00-c30903225635",
   "metadata": {},
   "outputs": [],
   "source": [
    "# c = 135/64\n",
    "xi = np.arange(0,1,0.001)\n",
    "c = -1\n",
    "for i in xi:\n",
    "    c = max(c, f(i))\n",
    "\n",
    "samples, avgIter, iterations = acceptance_rejection(10000,c)"
   ]
  },
  {
   "cell_type": "markdown",
   "id": "251a008a-461c-4695-9f1c-144fa031aab8",
   "metadata": {},
   "source": [
    "## (a)"
   ]
  },
  {
   "cell_type": "code",
   "execution_count": 6,
   "id": "3bb91b36-4c31-48db-8d25-2de44997454d",
   "metadata": {},
   "outputs": [
    {
     "name": "stdout",
     "output_type": "stream",
     "text": [
      "Average number of iterations required = 2.1053\n"
     ]
    }
   ],
   "source": [
    "print(\"Average number of iterations required =\", avgIter)"
   ]
  },
  {
   "cell_type": "markdown",
   "id": "e684724c-4840-4b31-ad76-c116c252750b",
   "metadata": {},
   "source": [
    "## (b)"
   ]
  },
  {
   "cell_type": "code",
   "execution_count": 7,
   "id": "e222ee89-d874-4a73-828d-4d9bd723d867",
   "metadata": {},
   "outputs": [
    {
     "name": "stdout",
     "output_type": "stream",
     "text": [
      "Sample mean = 0.335459325709939 Expected mean = 0.3333333333333325\n"
     ]
    }
   ],
   "source": [
    "sample_mean = np.mean(samples)\n",
    "\n",
    "expected_mean = 0\n",
    "v = np.arange(0,1,0.0001)\n",
    "for i in v:\n",
    "    expected_mean+=i*f(i)/10000\n",
    "    \n",
    "print(\"Sample mean =\", sample_mean, \"Expected mean =\", expected_mean)"
   ]
  },
  {
   "cell_type": "markdown",
   "id": "a2414a88-4f3c-47aa-ba70-783f882466f4",
   "metadata": {},
   "source": [
    "## (c)"
   ]
  },
  {
   "cell_type": "code",
   "execution_count": 8,
   "id": "659f786a-0cea-4013-b9eb-f5525bad8409",
   "metadata": {},
   "outputs": [
    {
     "name": "stdout",
     "output_type": "stream",
     "text": [
      "Approx prob = 0.6226\n",
      "Exact prob from PDF = 0.6171875\n"
     ]
    }
   ],
   "source": [
    "count_range = 0\n",
    "for i in samples:\n",
    "    if(i>=0.25 and i<=0.75):\n",
    "        count_range+=1\n",
    "approx_prob = count_range / 10000\n",
    "exxact_prob = 0.6171875\n",
    "\n",
    "print(\"Approx prob =\", approx_prob)\n",
    "print(\"Exact prob from PDF =\", exxact_prob)"
   ]
  },
  {
   "cell_type": "markdown",
   "id": "7a847a61-b5a1-41e5-b301-774689f9af90",
   "metadata": {},
   "source": [
    "## (d)"
   ]
  },
  {
   "cell_type": "code",
   "execution_count": 9,
   "id": "cf945a29-5551-4111-bb3a-2cb931484fe6",
   "metadata": {},
   "outputs": [
    {
     "name": "stdout",
     "output_type": "stream",
     "text": [
      "Average for each sample = 2.1053\n",
      "Value from (a) = 2.1053\n"
     ]
    }
   ],
   "source": [
    "avg_iter_all = np.mean(iterations)\n",
    "print(\"Average for each sample =\", avg_iter_all)\n",
    "print(\"Value from (a) =\", avgIter)"
   ]
  },
  {
   "cell_type": "markdown",
   "id": "1952ad6e-7aa1-4902-b1ec-fd6bbd532561",
   "metadata": {},
   "source": [
    "## (e)"
   ]
  },
  {
   "cell_type": "code",
   "execution_count": 10,
   "id": "998a0484-8965-43f8-a7b6-f33de231a729",
   "metadata": {},
   "outputs": [
    {
     "data": {
      "image/png": "[encoded data removed]",
      "text/plain": [
       "<Figure size 640x480 with 2 Axes>"
      ]
     },
     "metadata": {},
     "output_type": "display_data"
    }
   ],
   "source": [
    "fig, ax1 = plt.subplots()\n",
    "\n",
    "ax1.hist(samples, bins=50, density=True, alpha=0.6, label='Sample Histogram', color='g')\n",
    "ax1.set_xlabel(\"Samples\")\n",
    "ax1.set_ylabel(\"Frequencies\")\n",
    "\n",
    "ax2 = ax1.twinx()\n",
    "x_vals = np.arange(0, 1, 1/100000)\n",
    "ax2.set_ylabel(\"PDF\")\n",
    "ax2.plot(x_vals, [f(x) for x in x_vals], color='r', label='PDF f(x)')\n",
    "\n",
    "plt.legend()\n",
    "plt.show()\n"
   ]
  },
  {
   "cell_type": "markdown",
   "id": "b6e3f9f4-6ebf-4822-80f0-8d4e50909b4b",
   "metadata": {},
   "source": [
    "## (f)"
   ]
  },
  {
   "cell_type": "markdown",
   "id": "85280326-6866-4c2e-bc90-239b5b7f578d",
   "metadata": {},
   "source": [
    "#### c=10"
   ]
  },
  {
   "cell_type": "code",
   "execution_count": 11,
   "id": "8cc3a2c8-1177-4b84-97fd-eec5161f8fbb",
   "metadata": {},
   "outputs": [],
   "source": [
    "c = 10\n",
    "samples, avgIter, iterations = acceptance_rejection(10000,c)"
   ]
  },
  {
   "cell_type": "code",
   "execution_count": 12,
   "id": "7170d183-57fe-488f-9049-32545b303cf2",
   "metadata": {},
   "outputs": [
    {
     "name": "stdout",
     "output_type": "stream",
     "text": [
      "For c=10 Average number of iterations required : 10.0441\n",
      "For c=10, Sample mean : 0.33589660065993665 Expected mean : 0.3333333333333325\n",
      "For c=10, Approx prob : 0.6254\n",
      "For c=10 Exact prob from PDF : 0.6171875\n",
      "For c=10 Average for each sample : 10.0441\n",
      "Value from (a) = 10.0441\n"
     ]
    }
   ],
   "source": [
    "print(\"For c=10 Average number of iterations required :\", avgIter)\n",
    "\n",
    "sample_mean = np.mean(samples)\n",
    "\n",
    "expected_mean = 0\n",
    "v = np.arange(0,1,0.0001)\n",
    "for i in v:\n",
    "    expected_mean+=i*f(i)/10000\n",
    "    \n",
    "print(\"For c=10, Sample mean :\", sample_mean, \"Expected mean :\", expected_mean)\n",
    "\n",
    "count_range = 0\n",
    "for i in samples:\n",
    "    if(i>=0.25 and i<=0.75):\n",
    "        count_range+=1\n",
    "approx_prob = count_range / 10000\n",
    "# exact_prob = np.sum(np.array([f(x) for x in samples if 0.25 <= x <= 0.75])) / np.sum(np.array([f(x) for x in samples]))\n",
    "exxact_prob = 0.6171875\n",
    "\n",
    "print(\"For c=10, Approx prob :\", approx_prob)\n",
    "# print(\"Exact prob from samples =\", exact_prob)\n",
    "print(\"For c=10 Exact prob from PDF :\", exxact_prob)\n",
    "\n",
    "avg_iter_all = np.mean(iterations)\n",
    "print(\"For c=10 Average for each sample :\", avg_iter_all)\n",
    "print(\"Value from (a) =\", avgIter)"
   ]
  },
  {
   "cell_type": "markdown",
   "id": "1785ea38-2bdc-4ad4-bb1a-8cc2308b43a1",
   "metadata": {},
   "source": [
    "#### c=30"
   ]
  },
  {
   "cell_type": "code",
   "execution_count": 13,
   "id": "6d35094b-87e7-4b68-ba14-c6a13212f005",
   "metadata": {},
   "outputs": [
    {
     "name": "stdout",
     "output_type": "stream",
     "text": [
      "For c=30 Average number of iterations required : 30.3009\n",
      "For c=30, Sample mean : 0.3330351649805903 Expected mean : 0.3333333333333325\n",
      "For c=30, Approx prob : 0.6237\n",
      "For c=30 Exact prob from PDF : 0.6171875\n",
      "For c=30 Average for each sample : 30.3009\n",
      "Value from (a) = 30.3009\n"
     ]
    }
   ],
   "source": [
    "c = 30\n",
    "samples, avgIter, iterations = acceptance_rejection(10000,c)\n",
    "\n",
    "print(\"For c=30 Average number of iterations required :\", avgIter)\n",
    "\n",
    "sample_mean = np.mean(samples)\n",
    "\n",
    "expected_mean = 0\n",
    "v = np.arange(0,1,0.0001)\n",
    "for i in v:\n",
    "    expected_mean+=i*f(i)/10000\n",
    "    \n",
    "print(\"For c=30, Sample mean :\", sample_mean, \"Expected mean :\", expected_mean)\n",
    "\n",
    "count_range = 0\n",
    "for i in samples:\n",
    "    if(i>=0.25 and i<=0.75):\n",
    "        count_range+=1\n",
    "approx_prob = count_range / 10000\n",
    "exxact_prob = 0.6171875\n",
    "\n",
    "print(\"For c=30, Approx prob :\", approx_prob)\n",
    "print(\"For c=30 Exact prob from PDF :\", exxact_prob)\n",
    "\n",
    "avg_iter_all = np.mean(iterations)\n",
    "print(\"For c=30 Average for each sample :\", avg_iter_all)\n",
    "print(\"Value from (a) =\", avgIter)"
   ]
  },
  {
   "cell_type": "markdown",
   "id": "103f5545-b957-4119-bce0-6c53effe1c5a",
   "metadata": {},
   "source": [
    "---"
   ]
  },
  {
   "cell_type": "markdown",
   "id": "1729c413-9d3f-488e-bb46-a6b23d0d8ff1",
   "metadata": {},
   "source": [
    "# Part (II)"
   ]
  },
  {
   "cell_type": "markdown",
   "id": "143780d2-9241-44c9-8fe2-60cc94e3e438",
   "metadata": {},
   "source": [
    "### Taking ɑ = 2\n",
    "f(x) = (e/(e-1))xe^(-x)"
   ]
  },
  {
   "cell_type": "code",
   "execution_count": 14,
   "id": "72f0bb05-452e-4629-976f-4db3e1698649",
   "metadata": {},
   "outputs": [],
   "source": [
    "e = np.exp(1)\n",
    "\n",
    "def f(x):\n",
    "    return (e * x * np.exp(-x))/(2*(e-1))\n",
    "\n",
    "def g(x):\n",
    "    return 1"
   ]
  },
  {
   "cell_type": "code",
   "execution_count": 15,
   "id": "89eadca5-503e-45a5-8234-6a44d868cf81",
   "metadata": {},
   "outputs": [],
   "source": [
    "xi = np.arange(0,1,0.001)\n",
    "c = -1\n",
    "for i in xi:\n",
    "    c = max(c, f(i))"
   ]
  },
  {
   "cell_type": "code",
   "execution_count": 16,
   "id": "bb9fb542-fe1f-4b68-bb56-3c0a866b2d60",
   "metadata": {},
   "outputs": [],
   "source": [
    "def acceptance_rejection(N,c):\n",
    "    samples = []\n",
    "    iterations = []\n",
    "    k = 0\n",
    "    totalCount=0\n",
    "    for i in range(N):\n",
    "        currCount=0\n",
    "        while True:\n",
    "            x = rng[k]\n",
    "            y = rng[k+1]\n",
    "            k+=2\n",
    "            totalCount+=1\n",
    "            currCount+=1\n",
    "            if y <= f(x) / (c * g(x)):\n",
    "                samples.append(x)\n",
    "                iterations.append(currCount)\n",
    "                break\n",
    "\n",
    "    return samples, totalCount/N, iterations"
   ]
  },
  {
   "cell_type": "code",
   "execution_count": 17,
   "id": "1924c617-786c-4fdd-817f-cfea671e88e7",
   "metadata": {},
   "outputs": [],
   "source": [
    "samples, avg_itr, iterations = acceptance_rejection(10000, c)"
   ]
  },
  {
   "cell_type": "code",
   "execution_count": 19,
   "id": "2bf394f8-77bb-4cc3-adbd-e34f06d75f2b",
   "metadata": {},
   "outputs": [
    {
     "name": "stdout",
     "output_type": "stream",
     "text": [
      "0.6067682395808399\n"
     ]
    }
   ],
   "source": [
    "print(np.mean(samples))"
   ]
  },
  {
   "cell_type": "code",
   "execution_count": 18,
   "id": "555e1eec-77a4-4021-9d2d-d1065f60ac26",
   "metadata": {},
   "outputs": [
    {
     "data": {
      "image/png": "[encoded data removed]",
      "text/plain": [
       "<Figure size 640x480 with 2 Axes>"
      ]
     },
     "metadata": {},
     "output_type": "display_data"
    }
   ],
   "source": [
    "fig, ax1 = plt.subplots()\n",
    "\n",
    "ax1.hist(samples, bins=50, density=True, alpha=0.6, label='Sample Histogram', color='g')\n",
    "ax1.set_xlabel(\"Samples\")\n",
    "ax1.set_ylabel(\"Frequencies\")\n",
    "\n",
    "ax2 = ax1.twinx()\n",
    "x_vals = np.arange(0, 1, 1/100000)\n",
    "ax2.set_ylabel(\"PDF\")\n",
    "ax2.plot(x_vals, [f(x) for x in x_vals], color='r', label='PDF f(x)')\n",
    "\n",
    "plt.legend()\n",
    "plt.show()"
   ]
  },
  {
   "cell_type": "markdown",
   "id": "c79d71fb-43f8-4cba-91c5-b3e3ab0b25cb",
   "metadata": {},
   "source": [
    "---"
   ]
  }
 ],
 "metadata": {
  "kernelspec": {
   "display_name": "Python 3 (ipykernel)",
   "language": "python",
   "name": "python3"
  },
  "language_info": {
   "codemirror_mode": {
    "name": "ipython",
    "version": 3
   },
   "file_extension": ".py",
   "mimetype": "text/x-python",
   "name": "python",
   "nbconvert_exporter": "python",
   "pygments_lexer": "ipython3",
   "version": "3.11.4"
  }
 },
 "nbformat": 4,
 "nbformat_minor": 5
}
